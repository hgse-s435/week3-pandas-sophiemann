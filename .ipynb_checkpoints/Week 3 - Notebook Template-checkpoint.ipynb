{
 "cells": [
  {
   "cell_type": "markdown",
   "metadata": {},
   "source": [
    "# Logistics"
   ]
  },
  {
   "cell_type": "markdown",
   "metadata": {},
   "source": [
    "* If you feel lost while working on this notebook (in class or outside or class), don't hesitate to post questions here: https://piazza.com/class/jrzeap5kpirw"
   ]
  },
  {
   "cell_type": "markdown",
   "metadata": {
    "ExecuteTime": {
     "end_time": "2019-02-11T14:46:03.631443Z",
     "start_time": "2019-02-11T14:46:03.134999Z"
    }
   },
   "source": [
    "# Description of the dataset"
   ]
  },
  {
   "cell_type": "markdown",
   "metadata": {},
   "source": [
    "The file \"Bertrand-physiodata.csv\" was captured using the Empatica E4 wristband when Bertrand was teaching a class last Fall. The E4 collects information about a person's heart rate, electrodermal actibity, movements and temperature:\n",
    "\n",
    "![title](https://support.empatica.com/hc/article_attachments/360000797783/e4_specs.jpg)"
   ]
  },
  {
   "cell_type": "markdown",
   "metadata": {},
   "source": [
    "the csv file contains the following columns:\n",
    "* **tags**: users can tag events by pressing a button on the wristband\n",
    "* **real time**: time of the data collection\n",
    "* **unix time**: number of seconds since 00:00:00 Thursday, 1 January 1970\n",
    "* **BVP**: Blood volume pressure (used to compute HR data)\n",
    "* **HR**: Heart rate data\n",
    "* **EDA**: Electrodermal activity (i.e., physiological arousal)\n",
    "* **TEMP**: temperature of the skin\n",
    "* **ACC_x**: accelerometer data on the x axis\n",
    "* **ACC_y**: accelerometer data on the y axis\n",
    "* **ACC_z**: accelerometer data on the z axis"
   ]
  },
  {
   "cell_type": "markdown",
   "metadata": {},
   "source": [
    "Today we are going to explore Bertrand's physiological response to teaching! :) more specifically, we are going to explore the relationship between heart rate and electrodermal activity. "
   ]
  },
  {
   "cell_type": "markdown",
   "metadata": {},
   "source": [
    "# Panda Review"
   ]
  },
  {
   "cell_type": "markdown",
   "metadata": {},
   "source": [
    "Concepts: \n",
    "* head, tail, info, values\n",
    "* zip, dict, pd.DataFrame\n",
    "* df.columns\n",
    "* read_csv, delimiter, header, index\n",
    "\n"
   ]
  },
  {
   "cell_type": "code",
   "execution_count": 133,
   "metadata": {},
   "outputs": [],
   "source": [
    "# 1) import the pandas library as pd\n",
    "import pandas as pd"
   ]
  },
  {
   "cell_type": "code",
   "execution_count": 134,
   "metadata": {},
   "outputs": [],
   "source": [
    "# 2) import the csv file into a variable called df\n",
    "import pandas as pd\n",
    "df = pd.read_csv(\"/Users/sophiemann/Documents/Github/week3-pandas-sophiemann/Bertrand-physiodata.csv\")"
   ]
  },
  {
   "cell_type": "code",
   "execution_count": 135,
   "metadata": {},
   "outputs": [
    {
     "name": "stdout",
     "output_type": "stream",
     "text": [
      "['tags', 'real time', 'unix time', 'BVP', 'HR', 'EDA', 'TEMP', 'ACC_x', 'ACC_y', 'ACC_z']\n"
     ]
    }
   ],
   "source": [
    "# 3) print the column names, just to make \n",
    "# sure that it matches what we have above\n",
    "print(list(df.columns.values))"
   ]
  },
  {
   "cell_type": "code",
   "execution_count": 136,
   "metadata": {},
   "outputs": [
    {
     "data": {
      "text/html": [
       "<div>\n",
       "<style scoped>\n",
       "    .dataframe tbody tr th:only-of-type {\n",
       "        vertical-align: middle;\n",
       "    }\n",
       "\n",
       "    .dataframe tbody tr th {\n",
       "        vertical-align: top;\n",
       "    }\n",
       "\n",
       "    .dataframe thead th {\n",
       "        text-align: right;\n",
       "    }\n",
       "</style>\n",
       "<table border=\"1\" class=\"dataframe\">\n",
       "  <thead>\n",
       "    <tr style=\"text-align: right;\">\n",
       "      <th></th>\n",
       "      <th>tags</th>\n",
       "      <th>real time</th>\n",
       "      <th>unix time</th>\n",
       "      <th>BVP</th>\n",
       "      <th>HR</th>\n",
       "      <th>EDA</th>\n",
       "      <th>TEMP</th>\n",
       "      <th>ACC_x</th>\n",
       "      <th>ACC_y</th>\n",
       "      <th>ACC_z</th>\n",
       "    </tr>\n",
       "  </thead>\n",
       "  <tbody>\n",
       "    <tr>\n",
       "      <th>0</th>\n",
       "      <td>0.0</td>\n",
       "      <td>9/11/18 08:28</td>\n",
       "      <td>1.536669e+09</td>\n",
       "      <td>0.0</td>\n",
       "      <td>NaN</td>\n",
       "      <td>0.0</td>\n",
       "      <td>33.31</td>\n",
       "      <td>-50.0</td>\n",
       "      <td>7.0</td>\n",
       "      <td>28.0</td>\n",
       "    </tr>\n",
       "    <tr>\n",
       "      <th>1</th>\n",
       "      <td>0.0</td>\n",
       "      <td>9/11/18 08:28</td>\n",
       "      <td>1.536669e+09</td>\n",
       "      <td>0.0</td>\n",
       "      <td>NaN</td>\n",
       "      <td>NaN</td>\n",
       "      <td>NaN</td>\n",
       "      <td>NaN</td>\n",
       "      <td>NaN</td>\n",
       "      <td>NaN</td>\n",
       "    </tr>\n",
       "    <tr>\n",
       "      <th>2</th>\n",
       "      <td>0.0</td>\n",
       "      <td>9/11/18 08:28</td>\n",
       "      <td>1.536669e+09</td>\n",
       "      <td>0.0</td>\n",
       "      <td>NaN</td>\n",
       "      <td>NaN</td>\n",
       "      <td>NaN</td>\n",
       "      <td>-41.0</td>\n",
       "      <td>6.0</td>\n",
       "      <td>28.0</td>\n",
       "    </tr>\n",
       "    <tr>\n",
       "      <th>3</th>\n",
       "      <td>0.0</td>\n",
       "      <td>9/11/18 08:28</td>\n",
       "      <td>1.536669e+09</td>\n",
       "      <td>0.0</td>\n",
       "      <td>NaN</td>\n",
       "      <td>NaN</td>\n",
       "      <td>NaN</td>\n",
       "      <td>NaN</td>\n",
       "      <td>NaN</td>\n",
       "      <td>NaN</td>\n",
       "    </tr>\n",
       "    <tr>\n",
       "      <th>4</th>\n",
       "      <td>0.0</td>\n",
       "      <td>9/11/18 08:28</td>\n",
       "      <td>1.536669e+09</td>\n",
       "      <td>0.0</td>\n",
       "      <td>NaN</td>\n",
       "      <td>NaN</td>\n",
       "      <td>NaN</td>\n",
       "      <td>-40.0</td>\n",
       "      <td>7.0</td>\n",
       "      <td>25.0</td>\n",
       "    </tr>\n",
       "  </tbody>\n",
       "</table>\n",
       "</div>"
      ],
      "text/plain": [
       "   tags      real time     unix time  BVP  HR  EDA   TEMP  ACC_x  ACC_y  ACC_z\n",
       "0   0.0  9/11/18 08:28  1.536669e+09  0.0 NaN  0.0  33.31  -50.0    7.0   28.0\n",
       "1   0.0  9/11/18 08:28  1.536669e+09  0.0 NaN  NaN    NaN    NaN    NaN    NaN\n",
       "2   0.0  9/11/18 08:28  1.536669e+09  0.0 NaN  NaN    NaN  -41.0    6.0   28.0\n",
       "3   0.0  9/11/18 08:28  1.536669e+09  0.0 NaN  NaN    NaN    NaN    NaN    NaN\n",
       "4   0.0  9/11/18 08:28  1.536669e+09  0.0 NaN  NaN    NaN  -40.0    7.0   25.0"
      ]
     },
     "execution_count": 136,
     "metadata": {},
     "output_type": "execute_result"
    }
   ],
   "source": [
    "# 4) use the head() function to check your data\n",
    "df.head()"
   ]
  },
  {
   "cell_type": "code",
   "execution_count": 137,
   "metadata": {},
   "outputs": [
    {
     "data": {
      "text/html": [
       "<div>\n",
       "<style scoped>\n",
       "    .dataframe tbody tr th:only-of-type {\n",
       "        vertical-align: middle;\n",
       "    }\n",
       "\n",
       "    .dataframe tbody tr th {\n",
       "        vertical-align: top;\n",
       "    }\n",
       "\n",
       "    .dataframe thead th {\n",
       "        text-align: right;\n",
       "    }\n",
       "</style>\n",
       "<table border=\"1\" class=\"dataframe\">\n",
       "  <thead>\n",
       "    <tr style=\"text-align: right;\">\n",
       "      <th></th>\n",
       "      <th>tags</th>\n",
       "      <th>real time</th>\n",
       "      <th>unix time</th>\n",
       "      <th>BVP</th>\n",
       "      <th>HR</th>\n",
       "      <th>EDA</th>\n",
       "      <th>TEMP</th>\n",
       "      <th>ACC_x</th>\n",
       "      <th>ACC_y</th>\n",
       "      <th>ACC_z</th>\n",
       "    </tr>\n",
       "  </thead>\n",
       "  <tbody>\n",
       "    <tr>\n",
       "      <th>333871</th>\n",
       "      <td>2.0</td>\n",
       "      <td>9/11/18 09:55</td>\n",
       "      <td>1.536674e+09</td>\n",
       "      <td>-2.74</td>\n",
       "      <td>NaN</td>\n",
       "      <td>NaN</td>\n",
       "      <td>NaN</td>\n",
       "      <td>NaN</td>\n",
       "      <td>NaN</td>\n",
       "      <td>NaN</td>\n",
       "    </tr>\n",
       "    <tr>\n",
       "      <th>333872</th>\n",
       "      <td>2.0</td>\n",
       "      <td>9/11/18 09:55</td>\n",
       "      <td>1.536674e+09</td>\n",
       "      <td>-2.11</td>\n",
       "      <td>NaN</td>\n",
       "      <td>NaN</td>\n",
       "      <td>NaN</td>\n",
       "      <td>-43.0</td>\n",
       "      <td>15.0</td>\n",
       "      <td>44.0</td>\n",
       "    </tr>\n",
       "    <tr>\n",
       "      <th>333873</th>\n",
       "      <td>2.0</td>\n",
       "      <td>9/11/18 09:55</td>\n",
       "      <td>1.536674e+09</td>\n",
       "      <td>-1.64</td>\n",
       "      <td>NaN</td>\n",
       "      <td>NaN</td>\n",
       "      <td>NaN</td>\n",
       "      <td>NaN</td>\n",
       "      <td>NaN</td>\n",
       "      <td>NaN</td>\n",
       "    </tr>\n",
       "    <tr>\n",
       "      <th>333874</th>\n",
       "      <td>2.0</td>\n",
       "      <td>9/11/18 09:55</td>\n",
       "      <td>1.536674e+09</td>\n",
       "      <td>-1.48</td>\n",
       "      <td>NaN</td>\n",
       "      <td>NaN</td>\n",
       "      <td>NaN</td>\n",
       "      <td>-42.0</td>\n",
       "      <td>15.0</td>\n",
       "      <td>44.0</td>\n",
       "    </tr>\n",
       "    <tr>\n",
       "      <th>333875</th>\n",
       "      <td>NaN</td>\n",
       "      <td>NaN</td>\n",
       "      <td>NaN</td>\n",
       "      <td>-1.66</td>\n",
       "      <td>NaN</td>\n",
       "      <td>NaN</td>\n",
       "      <td>NaN</td>\n",
       "      <td>NaN</td>\n",
       "      <td>NaN</td>\n",
       "      <td>NaN</td>\n",
       "    </tr>\n",
       "  </tbody>\n",
       "</table>\n",
       "</div>"
      ],
      "text/plain": [
       "        tags      real time     unix time   BVP  HR  EDA  TEMP  ACC_x  ACC_y  \\\n",
       "333871   2.0  9/11/18 09:55  1.536674e+09 -2.74 NaN  NaN   NaN    NaN    NaN   \n",
       "333872   2.0  9/11/18 09:55  1.536674e+09 -2.11 NaN  NaN   NaN  -43.0   15.0   \n",
       "333873   2.0  9/11/18 09:55  1.536674e+09 -1.64 NaN  NaN   NaN    NaN    NaN   \n",
       "333874   2.0  9/11/18 09:55  1.536674e+09 -1.48 NaN  NaN   NaN  -42.0   15.0   \n",
       "333875   NaN            NaN           NaN -1.66 NaN  NaN   NaN    NaN    NaN   \n",
       "\n",
       "        ACC_z  \n",
       "333871    NaN  \n",
       "333872   44.0  \n",
       "333873    NaN  \n",
       "333874   44.0  \n",
       "333875    NaN  "
      ]
     },
     "execution_count": 137,
     "metadata": {},
     "output_type": "execute_result"
    }
   ],
   "source": [
    "# 5) use the tail() function on your dataframe. How many rows do you have?\n",
    "df.tail()\n",
    "#333875"
   ]
  },
  {
   "cell_type": "code",
   "execution_count": 138,
   "metadata": {},
   "outputs": [
    {
     "name": "stdout",
     "output_type": "stream",
     "text": [
      "<class 'pandas.core.frame.DataFrame'>\n",
      "RangeIndex: 333876 entries, 0 to 333875\n",
      "Data columns (total 10 columns):\n",
      "tags         333875 non-null float64\n",
      "real time    333575 non-null object\n",
      "unix time    333875 non-null float64\n",
      "BVP          333575 non-null float64\n",
      "HR           5203 non-null float64\n",
      "EDA          20849 non-null float64\n",
      "TEMP         20848 non-null float64\n",
      "ACC_x        166788 non-null float64\n",
      "ACC_y        166788 non-null float64\n",
      "ACC_z        166788 non-null float64\n",
      "dtypes: float64(9), object(1)\n",
      "memory usage: 25.5+ MB\n"
     ]
    }
   ],
   "source": [
    "# 6) use the info() function to inspect your data:\n",
    "df.info()"
   ]
  },
  {
   "cell_type": "code",
   "execution_count": 139,
   "metadata": {},
   "outputs": [],
   "source": [
    "# 7) knowing that BVP is collected 64 times per second (i.e., 64Hz),\n",
    "# what can you tell of the sampling frequency of the other measures?\n",
    "#they are also take at the same rate except for the realtime one that is object"
   ]
  },
  {
   "cell_type": "markdown",
   "metadata": {},
   "source": [
    "# Plotting"
   ]
  },
  {
   "cell_type": "markdown",
   "metadata": {},
   "source": [
    "Concepts: \n",
    "* plot, subplot, line plots, scatter, box plots, hist, ...\n",
    "* mean, median, quantiles, STD, etc. \n",
    "* separate and summarize"
   ]
  },
  {
   "cell_type": "code",
   "execution_count": 140,
   "metadata": {},
   "outputs": [],
   "source": [
    "# 8) make sure you're plotting your graphs inline\n",
    "# Hint: https://stackoverflow.com/questions/19410042/how-to-make-ipython-notebook-matplotlib-plot-inline\n",
    "%matplotlib inline\n",
    "\n",
    "import matplotlib\n",
    "import numpy as np\n",
    "import matplotlib.pyplot as plt"
   ]
  },
  {
   "cell_type": "markdown",
   "metadata": {},
   "source": [
    "### Let's work on the heart rate (HR) data first"
   ]
  },
  {
   "cell_type": "markdown",
   "metadata": {},
   "source": [
    "In this section we are going to produce various graphs to inspect Bertrand's heart rate data. "
   ]
  },
  {
   "cell_type": "code",
   "execution_count": 141,
   "metadata": {},
   "outputs": [
    {
     "data": {
      "image/png": "[encoded data removed]",
      "text/plain": [
       "<Figure size 432x288 with 1 Axes>"
      ]
     },
     "metadata": {
      "needs_background": "light"
     },
     "output_type": "display_data"
    }
   ],
   "source": [
    "# 9) produce a histogram of the heart rate data; what can you say from it?\n",
    "df.hist(column='HR')\n",
    "plt.show()"
   ]
  },
  {
   "cell_type": "code",
   "execution_count": 142,
   "metadata": {},
   "outputs": [
    {
     "data": {
      "image/png": "[encoded data removed]",
      "text/plain": [
       "<Figure size 432x288 with 1 Axes>"
      ]
     },
     "metadata": {
      "needs_background": "light"
     },
     "output_type": "display_data"
    }
   ],
   "source": [
    "# 10) Try to plot the values over time (e.g., use the real time for the x axis):\n",
    "df.plot.line(x = 'real time', y = 'HR')\n",
    "plt.show()\n"
   ]
  },
  {
   "cell_type": "markdown",
   "metadata": {},
   "source": [
    "11) What happened? Come up with 2-3 reasons why this didn't work before you move on to the next question:\n",
    "- reason 1: didn't specify subplots? \n",
    "- reason 2: it's frequency, not against real time \n",
    "- reason 3: "
   ]
  },
  {
   "cell_type": "markdown",
   "metadata": {},
   "source": [
    "After you've anwered the question above, feel free to look at this hint and try to fix your dataframe: https://stackoverflow.com/questions/22551403/python-pandas-filtering-out-nan-from-a-data-selection-of-a-column-of-strings/22553757"
   ]
  },
  {
   "cell_type": "code",
   "execution_count": 143,
   "metadata": {},
   "outputs": [
    {
     "data": {
      "text/html": [
       "<div>\n",
       "<style scoped>\n",
       "    .dataframe tbody tr th:only-of-type {\n",
       "        vertical-align: middle;\n",
       "    }\n",
       "\n",
       "    .dataframe tbody tr th {\n",
       "        vertical-align: top;\n",
       "    }\n",
       "\n",
       "    .dataframe thead th {\n",
       "        text-align: right;\n",
       "    }\n",
       "</style>\n",
       "<table border=\"1\" class=\"dataframe\">\n",
       "  <thead>\n",
       "    <tr style=\"text-align: right;\">\n",
       "      <th></th>\n",
       "      <th>tags</th>\n",
       "      <th>real time</th>\n",
       "      <th>unix time</th>\n",
       "      <th>BVP</th>\n",
       "      <th>HR</th>\n",
       "      <th>EDA</th>\n",
       "      <th>TEMP</th>\n",
       "      <th>ACC_x</th>\n",
       "      <th>ACC_y</th>\n",
       "      <th>ACC_z</th>\n",
       "    </tr>\n",
       "  </thead>\n",
       "  <tbody>\n",
       "    <tr>\n",
       "      <th>640</th>\n",
       "      <td>0.0</td>\n",
       "      <td>9/11/18 08:28</td>\n",
       "      <td>1.536669e+09</td>\n",
       "      <td>-79.05</td>\n",
       "      <td>72.00</td>\n",
       "      <td>1.059777</td>\n",
       "      <td>33.31</td>\n",
       "      <td>-13.0</td>\n",
       "      <td>65.0</td>\n",
       "      <td>-24.0</td>\n",
       "    </tr>\n",
       "    <tr>\n",
       "      <th>704</th>\n",
       "      <td>0.0</td>\n",
       "      <td>9/11/18 08:28</td>\n",
       "      <td>1.536669e+09</td>\n",
       "      <td>218.11</td>\n",
       "      <td>71.50</td>\n",
       "      <td>1.125105</td>\n",
       "      <td>33.31</td>\n",
       "      <td>-35.0</td>\n",
       "      <td>-7.0</td>\n",
       "      <td>34.0</td>\n",
       "    </tr>\n",
       "    <tr>\n",
       "      <th>768</th>\n",
       "      <td>0.0</td>\n",
       "      <td>9/11/18 08:28</td>\n",
       "      <td>1.536669e+09</td>\n",
       "      <td>-20.02</td>\n",
       "      <td>65.00</td>\n",
       "      <td>1.501703</td>\n",
       "      <td>33.31</td>\n",
       "      <td>-40.0</td>\n",
       "      <td>-12.0</td>\n",
       "      <td>34.0</td>\n",
       "    </tr>\n",
       "    <tr>\n",
       "      <th>832</th>\n",
       "      <td>0.0</td>\n",
       "      <td>9/11/18 08:28</td>\n",
       "      <td>1.536669e+09</td>\n",
       "      <td>76.70</td>\n",
       "      <td>92.25</td>\n",
       "      <td>1.204524</td>\n",
       "      <td>33.31</td>\n",
       "      <td>-31.0</td>\n",
       "      <td>13.0</td>\n",
       "      <td>46.0</td>\n",
       "    </tr>\n",
       "    <tr>\n",
       "      <th>896</th>\n",
       "      <td>0.0</td>\n",
       "      <td>9/11/18 08:28</td>\n",
       "      <td>1.536669e+09</td>\n",
       "      <td>71.85</td>\n",
       "      <td>87.60</td>\n",
       "      <td>1.184028</td>\n",
       "      <td>33.31</td>\n",
       "      <td>-38.0</td>\n",
       "      <td>8.0</td>\n",
       "      <td>51.0</td>\n",
       "    </tr>\n",
       "  </tbody>\n",
       "</table>\n",
       "</div>"
      ],
      "text/plain": [
       "     tags      real time     unix time     BVP     HR       EDA   TEMP  ACC_x  \\\n",
       "640   0.0  9/11/18 08:28  1.536669e+09  -79.05  72.00  1.059777  33.31  -13.0   \n",
       "704   0.0  9/11/18 08:28  1.536669e+09  218.11  71.50  1.125105  33.31  -35.0   \n",
       "768   0.0  9/11/18 08:28  1.536669e+09  -20.02  65.00  1.501703  33.31  -40.0   \n",
       "832   0.0  9/11/18 08:28  1.536669e+09   76.70  92.25  1.204524  33.31  -31.0   \n",
       "896   0.0  9/11/18 08:28  1.536669e+09   71.85  87.60  1.184028  33.31  -38.0   \n",
       "\n",
       "     ACC_y  ACC_z  \n",
       "640   65.0  -24.0  \n",
       "704   -7.0   34.0  \n",
       "768  -12.0   34.0  \n",
       "832   13.0   46.0  \n",
       "896    8.0   51.0  "
      ]
     },
     "execution_count": 143,
     "metadata": {},
     "output_type": "execute_result"
    }
   ],
   "source": [
    "# 12) Fix your dataframe using the link above: \n",
    "import numpy as np \n",
    "df_clean = df.dropna()\n",
    "df_clean.head()"
   ]
  },
  {
   "cell_type": "markdown",
   "metadata": {},
   "source": [
    "### Now let's look at the electrodermal activity data (EDA)"
   ]
  },
  {
   "cell_type": "markdown",
   "metadata": {},
   "source": [
    "In this section we are going to produce various graphs to inspect Bertrand's electrodermal data. "
   ]
  },
  {
   "cell_type": "code",
   "execution_count": 144,
   "metadata": {},
   "outputs": [
    {
     "data": {
      "text/plain": [
       "<matplotlib.axes._subplots.AxesSubplot at 0x11d0599e8>"
      ]
     },
     "execution_count": 144,
     "metadata": {},
     "output_type": "execute_result"
    },
    {
     "data": {
      "image/png": "[encoded data removed]",
      "text/plain": [
       "<Figure size 432x288 with 1 Axes>"
      ]
     },
     "metadata": {
      "needs_background": "light"
     },
     "output_type": "display_data"
    }
   ],
   "source": [
    "# 13) produce a line plot to visually inspect the EDA data\n",
    "# Hint: make sure you filter the nonnull data\n",
    "df_filtered = df[df.HR.notnull()]\n",
    "df_filtered.plot(x ='real time', y ='HR', kind='line')"
   ]
  },
  {
   "cell_type": "markdown",
   "metadata": {},
   "source": [
    "Feel free to look at the following page to make sense of the units of the EDA data: \n",
    "* https://support.empatica.com/hc/en-us/articles/203621955-What-should-I-know-to-use-EDA-data-in-my-experiment-"
   ]
  },
  {
   "cell_type": "code",
   "execution_count": 145,
   "metadata": {},
   "outputs": [
    {
     "name": "stdout",
     "output_type": "stream",
     "text": [
      "<class 'pandas.core.series.Series'>\n",
      "   tags      real time     unix time  BVP  HR  EDA   TEMP  ACC_x  ACC_y  ACC_z\n",
      "0   0.0  9/11/18 08:28  1.536669e+09  0.0 NaN  0.0  33.31  -50.0    7.0   28.0\n",
      "1   0.0  9/11/18 08:28  1.536669e+09  0.0 NaN  NaN    NaN    NaN    NaN    NaN\n",
      "2   0.0  9/11/18 08:28  1.536669e+09  0.0 NaN  NaN    NaN  -41.0    6.0   28.0\n",
      "3   0.0  9/11/18 08:28  1.536669e+09  0.0 NaN  NaN    NaN    NaN    NaN    NaN\n",
      "4   0.0  9/11/18 08:28  1.536669e+09  0.0 NaN  NaN    NaN  -40.0    7.0   25.0\n"
     ]
    }
   ],
   "source": [
    "# 14) we don't have any labels on the x axis! \n",
    "# convert the 'real time' column into a real date time\n",
    "# Hint: https://campus.datacamp.com/courses/pandas-foundations/time-series-in-pandas?ex=3\n",
    "print(type(df['real time']))\n",
    "print(df.head())\n",
    "real_dt = pd.to_datetime(df['real time'], format='%d/%m/%y %H:%M') "
   ]
  },
  {
   "cell_type": "code",
   "execution_count": 146,
   "metadata": {},
   "outputs": [],
   "source": [
    "# 15) print the mean and median values of the EDA data; explain how they are different\n",
    "#df_filtered['EDA'].mean() = 5.1876942585047034\n",
    "#df_filtered['EDA'].median() = 5.329205\n",
    "\n",
    "#they're different because mean includes outliers, \n",
    "#so if there was ever a disconnection of the wristband or \n",
    "#a sudden drop because Bertrand wasn't talking or was sitting \n",
    "#or something that would've forced the overall mean to be lower. Median does not include outliers. "
   ]
  },
  {
   "cell_type": "code",
   "execution_count": 147,
   "metadata": {},
   "outputs": [
    {
     "data": {
      "image/png": "[encoded data removed]",
      "text/plain": [
       "<Figure size 432x288 with 1 Axes>"
      ]
     },
     "metadata": {
      "needs_background": "light"
     },
     "output_type": "display_data"
    }
   ],
   "source": [
    "# 16) plot a histogram of the EDA values; does that confirm your interpretation above?\n",
    "df.hist(column='EDA')\n",
    "plt.show()\n",
    "#yes it does, look at that low spike between 0 and 2. "
   ]
  },
  {
   "cell_type": "markdown",
   "metadata": {},
   "source": [
    "### Combining EDA and HR data on the same graph"
   ]
  },
  {
   "cell_type": "markdown",
   "metadata": {},
   "source": [
    "In this section we are going to produce various graphs to inspect both the HR and EDA data."
   ]
  },
  {
   "cell_type": "code",
   "execution_count": 148,
   "metadata": {},
   "outputs": [
    {
     "data": {
      "text/html": [
       "<div>\n",
       "<style scoped>\n",
       "    .dataframe tbody tr th:only-of-type {\n",
       "        vertical-align: middle;\n",
       "    }\n",
       "\n",
       "    .dataframe tbody tr th {\n",
       "        vertical-align: top;\n",
       "    }\n",
       "\n",
       "    .dataframe thead th {\n",
       "        text-align: right;\n",
       "    }\n",
       "</style>\n",
       "<table border=\"1\" class=\"dataframe\">\n",
       "  <thead>\n",
       "    <tr style=\"text-align: right;\">\n",
       "      <th></th>\n",
       "      <th>tags</th>\n",
       "      <th>real time</th>\n",
       "      <th>unix time</th>\n",
       "      <th>BVP</th>\n",
       "      <th>HR</th>\n",
       "      <th>EDA</th>\n",
       "      <th>TEMP</th>\n",
       "      <th>ACC_x</th>\n",
       "      <th>ACC_y</th>\n",
       "      <th>ACC_z</th>\n",
       "    </tr>\n",
       "  </thead>\n",
       "  <tbody>\n",
       "    <tr>\n",
       "      <th>640</th>\n",
       "      <td>0.0</td>\n",
       "      <td>9/11/18 08:28</td>\n",
       "      <td>1.536669e+09</td>\n",
       "      <td>-79.05</td>\n",
       "      <td>72.00</td>\n",
       "      <td>1.059777</td>\n",
       "      <td>33.31</td>\n",
       "      <td>-13.0</td>\n",
       "      <td>65.0</td>\n",
       "      <td>-24.0</td>\n",
       "    </tr>\n",
       "    <tr>\n",
       "      <th>704</th>\n",
       "      <td>0.0</td>\n",
       "      <td>9/11/18 08:28</td>\n",
       "      <td>1.536669e+09</td>\n",
       "      <td>218.11</td>\n",
       "      <td>71.50</td>\n",
       "      <td>1.125105</td>\n",
       "      <td>33.31</td>\n",
       "      <td>-35.0</td>\n",
       "      <td>-7.0</td>\n",
       "      <td>34.0</td>\n",
       "    </tr>\n",
       "    <tr>\n",
       "      <th>768</th>\n",
       "      <td>0.0</td>\n",
       "      <td>9/11/18 08:28</td>\n",
       "      <td>1.536669e+09</td>\n",
       "      <td>-20.02</td>\n",
       "      <td>65.00</td>\n",
       "      <td>1.501703</td>\n",
       "      <td>33.31</td>\n",
       "      <td>-40.0</td>\n",
       "      <td>-12.0</td>\n",
       "      <td>34.0</td>\n",
       "    </tr>\n",
       "    <tr>\n",
       "      <th>832</th>\n",
       "      <td>0.0</td>\n",
       "      <td>9/11/18 08:28</td>\n",
       "      <td>1.536669e+09</td>\n",
       "      <td>76.70</td>\n",
       "      <td>92.25</td>\n",
       "      <td>1.204524</td>\n",
       "      <td>33.31</td>\n",
       "      <td>-31.0</td>\n",
       "      <td>13.0</td>\n",
       "      <td>46.0</td>\n",
       "    </tr>\n",
       "    <tr>\n",
       "      <th>896</th>\n",
       "      <td>0.0</td>\n",
       "      <td>9/11/18 08:28</td>\n",
       "      <td>1.536669e+09</td>\n",
       "      <td>71.85</td>\n",
       "      <td>87.60</td>\n",
       "      <td>1.184028</td>\n",
       "      <td>33.31</td>\n",
       "      <td>-38.0</td>\n",
       "      <td>8.0</td>\n",
       "      <td>51.0</td>\n",
       "    </tr>\n",
       "  </tbody>\n",
       "</table>\n",
       "</div>"
      ],
      "text/plain": [
       "     tags      real time     unix time     BVP     HR       EDA   TEMP  ACC_x  \\\n",
       "640   0.0  9/11/18 08:28  1.536669e+09  -79.05  72.00  1.059777  33.31  -13.0   \n",
       "704   0.0  9/11/18 08:28  1.536669e+09  218.11  71.50  1.125105  33.31  -35.0   \n",
       "768   0.0  9/11/18 08:28  1.536669e+09  -20.02  65.00  1.501703  33.31  -40.0   \n",
       "832   0.0  9/11/18 08:28  1.536669e+09   76.70  92.25  1.204524  33.31  -31.0   \n",
       "896   0.0  9/11/18 08:28  1.536669e+09   71.85  87.60  1.184028  33.31  -38.0   \n",
       "\n",
       "     ACC_y  ACC_z  \n",
       "640   65.0  -24.0  \n",
       "704   -7.0   34.0  \n",
       "768  -12.0   34.0  \n",
       "832   13.0   46.0  \n",
       "896    8.0   51.0  "
      ]
     },
     "execution_count": 148,
     "metadata": {},
     "output_type": "execute_result"
    }
   ],
   "source": [
    "# 17) filter both the EDA and HR values to keep the non-null rows:\n",
    "df = df.dropna(subset=['EDA','HR'])\n",
    "df.head()"
   ]
  },
  {
   "cell_type": "code",
   "execution_count": 156,
   "metadata": {},
   "outputs": [
    {
     "data": {
      "image/png": "[encoded data removed]",
      "text/plain": [
       "<Figure size 432x288 with 1 Axes>"
      ]
     },
     "metadata": {
      "needs_background": "light"
     },
     "output_type": "display_data"
    },
    {
     "data": {
      "image/png": "[encoded data removed]",
      "text/plain": [
       "<Figure size 432x288 with 1 Axes>"
      ]
     },
     "metadata": {
      "needs_background": "light"
     },
     "output_type": "display_data"
    }
   ],
   "source": [
    "# 18) plot EDA and HR on two different graphs using subplots \n",
    "x = df['real time']\n",
    "\n",
    "df.plot(kind='line', x = 'real time', y = 'EDA')\n",
    "df.plot(kind='line', x= 'real time', y = 'HR')\n",
    "plt.show()"
   ]
  },
  {
   "cell_type": "code",
   "execution_count": 157,
   "metadata": {},
   "outputs": [
    {
     "data": {
      "image/png": "[encoded data removed]",
      "text/plain": [
       "<Figure size 432x288 with 1 Axes>"
      ]
     },
     "metadata": {
      "needs_background": "light"
     },
     "output_type": "display_data"
    }
   ],
   "source": [
    "# 19) plot EDA and HR on the same graph; what went wrong?\n",
    "df.plot(kind='line', x= 'real time', y = ['HR', 'EDA'])\n",
    "plt.show()\n",
    "#they are not normalized oh no"
   ]
  },
  {
   "cell_type": "code",
   "execution_count": 160,
   "metadata": {},
   "outputs": [
    {
     "data": {
      "text/html": [
       "<div>\n",
       "<style scoped>\n",
       "    .dataframe tbody tr th:only-of-type {\n",
       "        vertical-align: middle;\n",
       "    }\n",
       "\n",
       "    .dataframe tbody tr th {\n",
       "        vertical-align: top;\n",
       "    }\n",
       "\n",
       "    .dataframe thead th {\n",
       "        text-align: right;\n",
       "    }\n",
       "</style>\n",
       "<table border=\"1\" class=\"dataframe\">\n",
       "  <thead>\n",
       "    <tr style=\"text-align: right;\">\n",
       "      <th></th>\n",
       "      <th>0</th>\n",
       "      <th>1</th>\n",
       "    </tr>\n",
       "  </thead>\n",
       "  <tbody>\n",
       "    <tr>\n",
       "      <th>0</th>\n",
       "      <td>0.069190</td>\n",
       "      <td>0.093045</td>\n",
       "    </tr>\n",
       "    <tr>\n",
       "      <th>1</th>\n",
       "      <td>0.064248</td>\n",
       "      <td>0.098781</td>\n",
       "    </tr>\n",
       "    <tr>\n",
       "      <th>2</th>\n",
       "      <td>0.000000</td>\n",
       "      <td>0.131845</td>\n",
       "    </tr>\n",
       "    <tr>\n",
       "      <th>3</th>\n",
       "      <td>0.269349</td>\n",
       "      <td>0.105754</td>\n",
       "    </tr>\n",
       "    <tr>\n",
       "      <th>4</th>\n",
       "      <td>0.223386</td>\n",
       "      <td>0.103954</td>\n",
       "    </tr>\n",
       "    <tr>\n",
       "      <th>5</th>\n",
       "      <td>0.365721</td>\n",
       "      <td>0.102830</td>\n",
       "    </tr>\n",
       "    <tr>\n",
       "      <th>6</th>\n",
       "      <td>0.467431</td>\n",
       "      <td>0.102267</td>\n",
       "    </tr>\n",
       "    <tr>\n",
       "      <th>7</th>\n",
       "      <td>0.555995</td>\n",
       "      <td>0.101368</td>\n",
       "    </tr>\n",
       "    <tr>\n",
       "      <th>8</th>\n",
       "      <td>0.642483</td>\n",
       "      <td>0.099793</td>\n",
       "    </tr>\n",
       "    <tr>\n",
       "      <th>9</th>\n",
       "      <td>0.707720</td>\n",
       "      <td>0.097994</td>\n",
       "    </tr>\n",
       "    <tr>\n",
       "      <th>10</th>\n",
       "      <td>0.761985</td>\n",
       "      <td>0.098219</td>\n",
       "    </tr>\n",
       "    <tr>\n",
       "      <th>11</th>\n",
       "      <td>0.814668</td>\n",
       "      <td>0.096982</td>\n",
       "    </tr>\n",
       "    <tr>\n",
       "      <th>12</th>\n",
       "      <td>0.858456</td>\n",
       "      <td>0.096307</td>\n",
       "    </tr>\n",
       "    <tr>\n",
       "      <th>13</th>\n",
       "      <td>0.896610</td>\n",
       "      <td>0.094620</td>\n",
       "    </tr>\n",
       "    <tr>\n",
       "      <th>14</th>\n",
       "      <td>0.927844</td>\n",
       "      <td>0.087310</td>\n",
       "    </tr>\n",
       "    <tr>\n",
       "      <th>15</th>\n",
       "      <td>0.954433</td>\n",
       "      <td>0.090113</td>\n",
       "    </tr>\n",
       "    <tr>\n",
       "      <th>16</th>\n",
       "      <td>0.956410</td>\n",
       "      <td>0.081228</td>\n",
       "    </tr>\n",
       "    <tr>\n",
       "      <th>17</th>\n",
       "      <td>0.960957</td>\n",
       "      <td>0.086064</td>\n",
       "    </tr>\n",
       "    <tr>\n",
       "      <th>18</th>\n",
       "      <td>0.965009</td>\n",
       "      <td>0.085614</td>\n",
       "    </tr>\n",
       "    <tr>\n",
       "      <th>19</th>\n",
       "      <td>0.969161</td>\n",
       "      <td>0.096411</td>\n",
       "    </tr>\n",
       "    <tr>\n",
       "      <th>20</th>\n",
       "      <td>0.974301</td>\n",
       "      <td>0.050750</td>\n",
       "    </tr>\n",
       "    <tr>\n",
       "      <th>21</th>\n",
       "      <td>0.978551</td>\n",
       "      <td>0.094724</td>\n",
       "    </tr>\n",
       "    <tr>\n",
       "      <th>22</th>\n",
       "      <td>0.982801</td>\n",
       "      <td>0.075043</td>\n",
       "    </tr>\n",
       "    <tr>\n",
       "      <th>23</th>\n",
       "      <td>0.986360</td>\n",
       "      <td>0.116991</td>\n",
       "    </tr>\n",
       "    <tr>\n",
       "      <th>24</th>\n",
       "      <td>0.989621</td>\n",
       "      <td>0.094836</td>\n",
       "    </tr>\n",
       "    <tr>\n",
       "      <th>25</th>\n",
       "      <td>0.992587</td>\n",
       "      <td>0.225770</td>\n",
       "    </tr>\n",
       "    <tr>\n",
       "      <th>26</th>\n",
       "      <td>0.995058</td>\n",
       "      <td>0.112182</td>\n",
       "    </tr>\n",
       "    <tr>\n",
       "      <th>27</th>\n",
       "      <td>0.997628</td>\n",
       "      <td>0.079429</td>\n",
       "    </tr>\n",
       "    <tr>\n",
       "      <th>28</th>\n",
       "      <td>1.000000</td>\n",
       "      <td>0.104058</td>\n",
       "    </tr>\n",
       "    <tr>\n",
       "      <th>29</th>\n",
       "      <td>0.987743</td>\n",
       "      <td>0.103158</td>\n",
       "    </tr>\n",
       "    <tr>\n",
       "      <th>...</th>\n",
       "      <td>...</td>\n",
       "      <td>...</td>\n",
       "    </tr>\n",
       "    <tr>\n",
       "      <th>5173</th>\n",
       "      <td>0.179599</td>\n",
       "      <td>0.508938</td>\n",
       "    </tr>\n",
       "    <tr>\n",
       "      <th>5174</th>\n",
       "      <td>0.179599</td>\n",
       "      <td>0.501628</td>\n",
       "    </tr>\n",
       "    <tr>\n",
       "      <th>5175</th>\n",
       "      <td>0.179401</td>\n",
       "      <td>0.496905</td>\n",
       "    </tr>\n",
       "    <tr>\n",
       "      <th>5176</th>\n",
       "      <td>0.179203</td>\n",
       "      <td>0.493306</td>\n",
       "    </tr>\n",
       "    <tr>\n",
       "      <th>5177</th>\n",
       "      <td>0.178907</td>\n",
       "      <td>0.502865</td>\n",
       "    </tr>\n",
       "    <tr>\n",
       "      <th>5178</th>\n",
       "      <td>0.178610</td>\n",
       "      <td>0.533193</td>\n",
       "    </tr>\n",
       "    <tr>\n",
       "      <th>5179</th>\n",
       "      <td>0.178413</td>\n",
       "      <td>0.553437</td>\n",
       "    </tr>\n",
       "    <tr>\n",
       "      <th>5180</th>\n",
       "      <td>0.178413</td>\n",
       "      <td>0.553662</td>\n",
       "    </tr>\n",
       "    <tr>\n",
       "      <th>5181</th>\n",
       "      <td>0.178215</td>\n",
       "      <td>0.531394</td>\n",
       "    </tr>\n",
       "    <tr>\n",
       "      <th>5182</th>\n",
       "      <td>0.178215</td>\n",
       "      <td>0.519923</td>\n",
       "    </tr>\n",
       "    <tr>\n",
       "      <th>5183</th>\n",
       "      <td>0.178215</td>\n",
       "      <td>0.515874</td>\n",
       "    </tr>\n",
       "    <tr>\n",
       "      <th>5184</th>\n",
       "      <td>0.178215</td>\n",
       "      <td>0.525546</td>\n",
       "    </tr>\n",
       "    <tr>\n",
       "      <th>5185</th>\n",
       "      <td>0.178907</td>\n",
       "      <td>0.335411</td>\n",
       "    </tr>\n",
       "    <tr>\n",
       "      <th>5186</th>\n",
       "      <td>0.179698</td>\n",
       "      <td>0.210315</td>\n",
       "    </tr>\n",
       "    <tr>\n",
       "      <th>5187</th>\n",
       "      <td>0.180389</td>\n",
       "      <td>0.316705</td>\n",
       "    </tr>\n",
       "    <tr>\n",
       "      <th>5188</th>\n",
       "      <td>0.180587</td>\n",
       "      <td>0.312864</td>\n",
       "    </tr>\n",
       "    <tr>\n",
       "      <th>5189</th>\n",
       "      <td>0.181081</td>\n",
       "      <td>0.390351</td>\n",
       "    </tr>\n",
       "    <tr>\n",
       "      <th>5190</th>\n",
       "      <td>0.181576</td>\n",
       "      <td>0.288909</td>\n",
       "    </tr>\n",
       "    <tr>\n",
       "      <th>5191</th>\n",
       "      <td>0.182366</td>\n",
       "      <td>0.316705</td>\n",
       "    </tr>\n",
       "    <tr>\n",
       "      <th>5192</th>\n",
       "      <td>0.183157</td>\n",
       "      <td>0.447762</td>\n",
       "    </tr>\n",
       "    <tr>\n",
       "      <th>5193</th>\n",
       "      <td>0.184047</td>\n",
       "      <td>0.535367</td>\n",
       "    </tr>\n",
       "    <tr>\n",
       "      <th>5194</th>\n",
       "      <td>0.185134</td>\n",
       "      <td>0.420317</td>\n",
       "    </tr>\n",
       "    <tr>\n",
       "      <th>5195</th>\n",
       "      <td>0.186320</td>\n",
       "      <td>0.423807</td>\n",
       "    </tr>\n",
       "    <tr>\n",
       "      <th>5196</th>\n",
       "      <td>0.188000</td>\n",
       "      <td>0.491586</td>\n",
       "    </tr>\n",
       "    <tr>\n",
       "      <th>5197</th>\n",
       "      <td>0.188593</td>\n",
       "      <td>0.657481</td>\n",
       "    </tr>\n",
       "    <tr>\n",
       "      <th>5198</th>\n",
       "      <td>0.189780</td>\n",
       "      <td>0.507954</td>\n",
       "    </tr>\n",
       "    <tr>\n",
       "      <th>5199</th>\n",
       "      <td>0.191262</td>\n",
       "      <td>0.425120</td>\n",
       "    </tr>\n",
       "    <tr>\n",
       "      <th>5200</th>\n",
       "      <td>0.193041</td>\n",
       "      <td>0.434229</td>\n",
       "    </tr>\n",
       "    <tr>\n",
       "      <th>5201</th>\n",
       "      <td>0.195216</td>\n",
       "      <td>0.434454</td>\n",
       "    </tr>\n",
       "    <tr>\n",
       "      <th>5202</th>\n",
       "      <td>0.196995</td>\n",
       "      <td>0.436929</td>\n",
       "    </tr>\n",
       "  </tbody>\n",
       "</table>\n",
       "<p>5203 rows × 2 columns</p>\n",
       "</div>"
      ],
      "text/plain": [
       "             0         1\n",
       "0     0.069190  0.093045\n",
       "1     0.064248  0.098781\n",
       "2     0.000000  0.131845\n",
       "3     0.269349  0.105754\n",
       "4     0.223386  0.103954\n",
       "5     0.365721  0.102830\n",
       "6     0.467431  0.102267\n",
       "7     0.555995  0.101368\n",
       "8     0.642483  0.099793\n",
       "9     0.707720  0.097994\n",
       "10    0.761985  0.098219\n",
       "11    0.814668  0.096982\n",
       "12    0.858456  0.096307\n",
       "13    0.896610  0.094620\n",
       "14    0.927844  0.087310\n",
       "15    0.954433  0.090113\n",
       "16    0.956410  0.081228\n",
       "17    0.960957  0.086064\n",
       "18    0.965009  0.085614\n",
       "19    0.969161  0.096411\n",
       "20    0.974301  0.050750\n",
       "21    0.978551  0.094724\n",
       "22    0.982801  0.075043\n",
       "23    0.986360  0.116991\n",
       "24    0.989621  0.094836\n",
       "25    0.992587  0.225770\n",
       "26    0.995058  0.112182\n",
       "27    0.997628  0.079429\n",
       "28    1.000000  0.104058\n",
       "29    0.987743  0.103158\n",
       "...        ...       ...\n",
       "5173  0.179599  0.508938\n",
       "5174  0.179599  0.501628\n",
       "5175  0.179401  0.496905\n",
       "5176  0.179203  0.493306\n",
       "5177  0.178907  0.502865\n",
       "5178  0.178610  0.533193\n",
       "5179  0.178413  0.553437\n",
       "5180  0.178413  0.553662\n",
       "5181  0.178215  0.531394\n",
       "5182  0.178215  0.519923\n",
       "5183  0.178215  0.515874\n",
       "5184  0.178215  0.525546\n",
       "5185  0.178907  0.335411\n",
       "5186  0.179698  0.210315\n",
       "5187  0.180389  0.316705\n",
       "5188  0.180587  0.312864\n",
       "5189  0.181081  0.390351\n",
       "5190  0.181576  0.288909\n",
       "5191  0.182366  0.316705\n",
       "5192  0.183157  0.447762\n",
       "5193  0.184047  0.535367\n",
       "5194  0.185134  0.420317\n",
       "5195  0.186320  0.423807\n",
       "5196  0.188000  0.491586\n",
       "5197  0.188593  0.657481\n",
       "5198  0.189780  0.507954\n",
       "5199  0.191262  0.425120\n",
       "5200  0.193041  0.434229\n",
       "5201  0.195216  0.434454\n",
       "5202  0.196995  0.436929\n",
       "\n",
       "[5203 rows x 2 columns]"
      ]
     },
     "execution_count": 160,
     "metadata": {},
     "output_type": "execute_result"
    }
   ],
   "source": [
    "# 20) normalize the HR and EDA columns using your favorite normalization strategy\n",
    "# Hint: https://stackoverflow.com/questions/12525722/normalize-data-in-pandas\n",
    "import numpy as np\n",
    "import pandas as pd\n",
    "from sklearn import preprocessing\n",
    "%matplotlib inline\n",
    "\n",
    "x = df[['HR','EDA']].values.astype(float)\n",
    "min_max_scaler = preprocessing.MinMaxScaler()\n",
    "x_scaled = min_max_scaler.fit_transform(x)\n",
    "df_normalized = pd.DataFrame(x_scaled)\n",
    "df_normalized\n"
   ]
  },
  {
   "cell_type": "code",
   "execution_count": 171,
   "metadata": {},
   "outputs": [],
   "source": [
    "df_normalized.head()\n",
    "df_normalized.columns=['normalized', 'real time']"
   ]
  },
  {
   "cell_type": "code",
   "execution_count": 173,
   "metadata": {},
   "outputs": [
    {
     "data": {
      "image/png": "[encoded data removed]",
      "text/plain": [
       "<Figure size 432x288 with 1 Axes>"
      ]
     },
     "metadata": {
      "needs_background": "light"
     },
     "output_type": "display_data"
    }
   ],
   "source": [
    "# 21) plot EDA and HR on the same graph; does the result look better?\n",
    "df_normalized.head()\n",
    "df_normalized.plot(kind='line', x = 'normalized', y = 'real time')\n",
    "plt.show()"
   ]
  },
  {
   "cell_type": "code",
   "execution_count": 153,
   "metadata": {},
   "outputs": [],
   "source": [
    "# 22) what can you observe from the graph? Does there seem to be an agreement between HR and EDA?\n",
    "#There appears to be no correlation between the two in a scatter or line plot"
   ]
  },
  {
   "cell_type": "markdown",
   "metadata": {},
   "source": [
    "**IN-CLASS DISCUSSION**: why do we normalize values? When do we want to normalize them?"
   ]
  },
  {
   "cell_type": "markdown",
   "metadata": {},
   "source": [
    "# Time series"
   ]
  },
  {
   "cell_type": "markdown",
   "metadata": {},
   "source": [
    "Concepts:\n",
    "* indexing, slicing, datetimeIndex\n",
    "* resampling, rolling mean\n",
    "* method chaining and filtering\n",
    "* plotting time series"
   ]
  },
  {
   "cell_type": "markdown",
   "metadata": {},
   "source": [
    "In this section, we are going to work with some built-in function of pandas to work with time series. More specifically, we are going to downsample our data and use a rolling window to generate additional graphs."
   ]
  },
  {
   "cell_type": "code",
   "execution_count": 203,
   "metadata": {},
   "outputs": [
    {
     "data": {
      "text/html": [
       "<div>\n",
       "<style scoped>\n",
       "    .dataframe tbody tr th:only-of-type {\n",
       "        vertical-align: middle;\n",
       "    }\n",
       "\n",
       "    .dataframe tbody tr th {\n",
       "        vertical-align: top;\n",
       "    }\n",
       "\n",
       "    .dataframe thead th {\n",
       "        text-align: right;\n",
       "    }\n",
       "</style>\n",
       "<table border=\"1\" class=\"dataframe\">\n",
       "  <thead>\n",
       "    <tr style=\"text-align: right;\">\n",
       "      <th></th>\n",
       "      <th>tags</th>\n",
       "      <th>unix time</th>\n",
       "      <th>BVP</th>\n",
       "      <th>HR</th>\n",
       "      <th>EDA</th>\n",
       "      <th>TEMP</th>\n",
       "      <th>ACC_x</th>\n",
       "      <th>ACC_y</th>\n",
       "      <th>ACC_z</th>\n",
       "    </tr>\n",
       "    <tr>\n",
       "      <th>real time</th>\n",
       "      <th></th>\n",
       "      <th></th>\n",
       "      <th></th>\n",
       "      <th></th>\n",
       "      <th></th>\n",
       "      <th></th>\n",
       "      <th></th>\n",
       "      <th></th>\n",
       "      <th></th>\n",
       "    </tr>\n",
       "  </thead>\n",
       "  <tbody>\n",
       "    <tr>\n",
       "      <th>9/11/18 08:28</th>\n",
       "      <td>0.0</td>\n",
       "      <td>1.536669e+09</td>\n",
       "      <td>0.00</td>\n",
       "      <td>NaN</td>\n",
       "      <td>0.000000</td>\n",
       "      <td>33.31</td>\n",
       "      <td>-50.0</td>\n",
       "      <td>7.0</td>\n",
       "      <td>28.0</td>\n",
       "    </tr>\n",
       "    <tr>\n",
       "      <th>9/11/18 08:28</th>\n",
       "      <td>0.0</td>\n",
       "      <td>1.536669e+09</td>\n",
       "      <td>-0.05</td>\n",
       "      <td>NaN</td>\n",
       "      <td>0.836457</td>\n",
       "      <td>33.31</td>\n",
       "      <td>-32.0</td>\n",
       "      <td>64.0</td>\n",
       "      <td>27.0</td>\n",
       "    </tr>\n",
       "    <tr>\n",
       "      <th>9/11/18 08:28</th>\n",
       "      <td>0.0</td>\n",
       "      <td>1.536669e+09</td>\n",
       "      <td>6.20</td>\n",
       "      <td>NaN</td>\n",
       "      <td>1.183860</td>\n",
       "      <td>33.31</td>\n",
       "      <td>-14.0</td>\n",
       "      <td>57.0</td>\n",
       "      <td>50.0</td>\n",
       "    </tr>\n",
       "    <tr>\n",
       "      <th>9/11/18 08:28</th>\n",
       "      <td>0.0</td>\n",
       "      <td>1.536669e+09</td>\n",
       "      <td>22.90</td>\n",
       "      <td>NaN</td>\n",
       "      <td>1.167277</td>\n",
       "      <td>33.31</td>\n",
       "      <td>-22.0</td>\n",
       "      <td>52.0</td>\n",
       "      <td>24.0</td>\n",
       "    </tr>\n",
       "    <tr>\n",
       "      <th>9/11/18 08:28</th>\n",
       "      <td>0.0</td>\n",
       "      <td>1.536669e+09</td>\n",
       "      <td>93.76</td>\n",
       "      <td>NaN</td>\n",
       "      <td>1.278719</td>\n",
       "      <td>33.31</td>\n",
       "      <td>-17.0</td>\n",
       "      <td>53.0</td>\n",
       "      <td>27.0</td>\n",
       "    </tr>\n",
       "  </tbody>\n",
       "</table>\n",
       "</div>"
      ],
      "text/plain": [
       "               tags     unix time    BVP  HR       EDA   TEMP  ACC_x  ACC_y  \\\n",
       "real time                                                                     \n",
       "9/11/18 08:28   0.0  1.536669e+09   0.00 NaN  0.000000  33.31  -50.0    7.0   \n",
       "9/11/18 08:28   0.0  1.536669e+09  -0.05 NaN  0.836457  33.31  -32.0   64.0   \n",
       "9/11/18 08:28   0.0  1.536669e+09   6.20 NaN  1.183860  33.31  -14.0   57.0   \n",
       "9/11/18 08:28   0.0  1.536669e+09  22.90 NaN  1.167277  33.31  -22.0   52.0   \n",
       "9/11/18 08:28   0.0  1.536669e+09  93.76 NaN  1.278719  33.31  -17.0   53.0   \n",
       "\n",
       "               ACC_z  \n",
       "real time             \n",
       "9/11/18 08:28   28.0  \n",
       "9/11/18 08:28   27.0  \n",
       "9/11/18 08:28   50.0  \n",
       "9/11/18 08:28   24.0  \n",
       "9/11/18 08:28   27.0  "
      ]
     },
     "execution_count": 203,
     "metadata": {},
     "output_type": "execute_result"
    }
   ],
   "source": [
    "# let's reimport our data to make sure it's clean\n",
    "df = pd.read_csv('Bertrand-physiodata.csv')\n",
    "df_filtered = df[df['EDA'].notnull() & df['EDA'].notnull()].copy()\n",
    "\n",
    "# make sure that you are converting the real time column into a datetime\n",
    "df['real time'] = pd.to_datetime(df['real time'], format='%d/%m/%y %H:%M')\n",
    "df = df_filtered.set_index('real time')\n",
    "\n",
    "df.head()"
   ]
  },
  {
   "cell_type": "markdown",
   "metadata": {},
   "source": [
    "### Down sampling"
   ]
  },
  {
   "cell_type": "code",
   "execution_count": 205,
   "metadata": {},
   "outputs": [
    {
     "ename": "TypeError",
     "evalue": "Only valid with DatetimeIndex, TimedeltaIndex or PeriodIndex, but got an instance of 'Int64Index'",
     "output_type": "error",
     "traceback": [
      "\u001b[0;31m---------------------------------------------------------------------------\u001b[0m",
      "\u001b[0;31mTypeError\u001b[0m                                 Traceback (most recent call last)",
      "\u001b[0;32m<ipython-input-205-4db7724bf004>\u001b[0m in \u001b[0;36m<module>\u001b[0;34m\u001b[0m\n\u001b[1;32m      1\u001b[0m \u001b[0;31m# 23) Use the instruction from datacamp to resample your data in 60 seconds windows and plot the result\u001b[0m\u001b[0;34m\u001b[0m\u001b[0;34m\u001b[0m\u001b[0;34m\u001b[0m\u001b[0m\n\u001b[1;32m      2\u001b[0m \u001b[0;31m# Hint: https://campus.datacamp.com/courses/pandas-foundations/time-series-in-pandas?ex=7\u001b[0m\u001b[0;34m\u001b[0m\u001b[0;34m\u001b[0m\u001b[0;34m\u001b[0m\u001b[0m\n\u001b[0;32m----> 3\u001b[0;31m \u001b[0mdf\u001b[0m \u001b[0;34m=\u001b[0m \u001b[0mdf_filtered\u001b[0m\u001b[0;34m.\u001b[0m\u001b[0mresample\u001b[0m\u001b[0;34m(\u001b[0m\u001b[0;34m'30S'\u001b[0m\u001b[0;34m)\u001b[0m\u001b[0;34m\u001b[0m\u001b[0;34m\u001b[0m\u001b[0m\n\u001b[0m\u001b[1;32m      4\u001b[0m \u001b[0mdf\u001b[0m\u001b[0;34m.\u001b[0m\u001b[0mplot\u001b[0m\u001b[0;34m(\u001b[0m\u001b[0;34m)\u001b[0m\u001b[0;34m\u001b[0m\u001b[0;34m\u001b[0m\u001b[0m\n\u001b[1;32m      5\u001b[0m \u001b[0mplt\u001b[0m\u001b[0;34m.\u001b[0m\u001b[0mshow\u001b[0m\u001b[0;34m(\u001b[0m\u001b[0;34m)\u001b[0m\u001b[0;34m\u001b[0m\u001b[0;34m\u001b[0m\u001b[0m\n",
      "\u001b[0;32m/anaconda3/lib/python3.7/site-packages/pandas/core/generic.py\u001b[0m in \u001b[0;36mresample\u001b[0;34m(self, rule, how, axis, fill_method, closed, label, convention, kind, loffset, limit, base, on, level)\u001b[0m\n\u001b[1;32m   7108\u001b[0m                      \u001b[0maxis\u001b[0m\u001b[0;34m=\u001b[0m\u001b[0maxis\u001b[0m\u001b[0;34m,\u001b[0m \u001b[0mkind\u001b[0m\u001b[0;34m=\u001b[0m\u001b[0mkind\u001b[0m\u001b[0;34m,\u001b[0m \u001b[0mloffset\u001b[0m\u001b[0;34m=\u001b[0m\u001b[0mloffset\u001b[0m\u001b[0;34m,\u001b[0m\u001b[0;34m\u001b[0m\u001b[0;34m\u001b[0m\u001b[0m\n\u001b[1;32m   7109\u001b[0m                      \u001b[0mconvention\u001b[0m\u001b[0;34m=\u001b[0m\u001b[0mconvention\u001b[0m\u001b[0;34m,\u001b[0m\u001b[0;34m\u001b[0m\u001b[0;34m\u001b[0m\u001b[0m\n\u001b[0;32m-> 7110\u001b[0;31m                      base=base, key=on, level=level)\n\u001b[0m\u001b[1;32m   7111\u001b[0m         return _maybe_process_deprecations(r,\n\u001b[1;32m   7112\u001b[0m                                            \u001b[0mhow\u001b[0m\u001b[0;34m=\u001b[0m\u001b[0mhow\u001b[0m\u001b[0;34m,\u001b[0m\u001b[0;34m\u001b[0m\u001b[0;34m\u001b[0m\u001b[0m\n",
      "\u001b[0;32m/anaconda3/lib/python3.7/site-packages/pandas/core/resample.py\u001b[0m in \u001b[0;36mresample\u001b[0;34m(obj, kind, **kwds)\u001b[0m\n\u001b[1;32m   1146\u001b[0m     \u001b[0;34m\"\"\" create a TimeGrouper and return our resampler \"\"\"\u001b[0m\u001b[0;34m\u001b[0m\u001b[0;34m\u001b[0m\u001b[0m\n\u001b[1;32m   1147\u001b[0m     \u001b[0mtg\u001b[0m \u001b[0;34m=\u001b[0m \u001b[0mTimeGrouper\u001b[0m\u001b[0;34m(\u001b[0m\u001b[0;34m**\u001b[0m\u001b[0mkwds\u001b[0m\u001b[0;34m)\u001b[0m\u001b[0;34m\u001b[0m\u001b[0;34m\u001b[0m\u001b[0m\n\u001b[0;32m-> 1148\u001b[0;31m     \u001b[0;32mreturn\u001b[0m \u001b[0mtg\u001b[0m\u001b[0;34m.\u001b[0m\u001b[0m_get_resampler\u001b[0m\u001b[0;34m(\u001b[0m\u001b[0mobj\u001b[0m\u001b[0;34m,\u001b[0m \u001b[0mkind\u001b[0m\u001b[0;34m=\u001b[0m\u001b[0mkind\u001b[0m\u001b[0;34m)\u001b[0m\u001b[0;34m\u001b[0m\u001b[0;34m\u001b[0m\u001b[0m\n\u001b[0m\u001b[1;32m   1149\u001b[0m \u001b[0;34m\u001b[0m\u001b[0m\n\u001b[1;32m   1150\u001b[0m \u001b[0;34m\u001b[0m\u001b[0m\n",
      "\u001b[0;32m/anaconda3/lib/python3.7/site-packages/pandas/core/resample.py\u001b[0m in \u001b[0;36m_get_resampler\u001b[0;34m(self, obj, kind)\u001b[0m\n\u001b[1;32m   1274\u001b[0m         raise TypeError(\"Only valid with DatetimeIndex, \"\n\u001b[1;32m   1275\u001b[0m                         \u001b[0;34m\"TimedeltaIndex or PeriodIndex, \"\u001b[0m\u001b[0;34m\u001b[0m\u001b[0;34m\u001b[0m\u001b[0m\n\u001b[0;32m-> 1276\u001b[0;31m                         \"but got an instance of %r\" % type(ax).__name__)\n\u001b[0m\u001b[1;32m   1277\u001b[0m \u001b[0;34m\u001b[0m\u001b[0m\n\u001b[1;32m   1278\u001b[0m     \u001b[0;32mdef\u001b[0m \u001b[0m_get_grouper\u001b[0m\u001b[0;34m(\u001b[0m\u001b[0mself\u001b[0m\u001b[0;34m,\u001b[0m \u001b[0mobj\u001b[0m\u001b[0;34m,\u001b[0m \u001b[0mvalidate\u001b[0m\u001b[0;34m=\u001b[0m\u001b[0;32mTrue\u001b[0m\u001b[0;34m)\u001b[0m\u001b[0;34m:\u001b[0m\u001b[0;34m\u001b[0m\u001b[0;34m\u001b[0m\u001b[0m\n",
      "\u001b[0;31mTypeError\u001b[0m: Only valid with DatetimeIndex, TimedeltaIndex or PeriodIndex, but got an instance of 'Int64Index'"
     ]
    }
   ],
   "source": [
    "# 23) Use the instruction from datacamp to resample your data in 60 seconds windows and plot the result\n",
    "# Hint: https://campus.datacamp.com/courses/pandas-foundations/time-series-in-pandas?ex=7\n",
    "df = df_filtered.resample('30S')\n",
    "df.plot()\n",
    "plt.show()"
   ]
  },
  {
   "cell_type": "code",
   "execution_count": 127,
   "metadata": {},
   "outputs": [
    {
     "ename": "AttributeError",
     "evalue": "'Rolling' object has no attribute 'rolling'",
     "output_type": "error",
     "traceback": [
      "\u001b[0;31m---------------------------------------------------------------------------\u001b[0m",
      "\u001b[0;31mAttributeError\u001b[0m                            Traceback (most recent call last)",
      "\u001b[0;32m<ipython-input-127-00b5cef282bc>\u001b[0m in \u001b[0;36m<module>\u001b[0;34m\u001b[0m\n\u001b[1;32m      1\u001b[0m \u001b[0;31m# 24) do the same thing, but this time using the rolling() function in a 60sec window\u001b[0m\u001b[0;34m\u001b[0m\u001b[0;34m\u001b[0m\u001b[0;34m\u001b[0m\u001b[0m\n\u001b[0;32m----> 2\u001b[0;31m \u001b[0mdf\u001b[0m \u001b[0;34m=\u001b[0m \u001b[0mdf\u001b[0m\u001b[0;34m.\u001b[0m\u001b[0mrolling\u001b[0m\u001b[0;34m(\u001b[0m\u001b[0mwindow\u001b[0m\u001b[0;34m=\u001b[0m\u001b[0;36m60\u001b[0m\u001b[0;34m)\u001b[0m\u001b[0;34m.\u001b[0m\u001b[0mmean\u001b[0m\u001b[0;34m(\u001b[0m\u001b[0;34m)\u001b[0m\u001b[0;34m\u001b[0m\u001b[0;34m\u001b[0m\u001b[0m\n\u001b[0m\u001b[1;32m      3\u001b[0m \u001b[0mdf\u001b[0m\u001b[0;34m.\u001b[0m\u001b[0mplot\u001b[0m\u001b[0;34m(\u001b[0m\u001b[0;34m)\u001b[0m\u001b[0;34m\u001b[0m\u001b[0;34m\u001b[0m\u001b[0m\n",
      "\u001b[0;32m/anaconda3/lib/python3.7/site-packages/pandas/core/window.py\u001b[0m in \u001b[0;36m__getattr__\u001b[0;34m(self, attr)\u001b[0m\n\u001b[1;32m    161\u001b[0m \u001b[0;34m\u001b[0m\u001b[0m\n\u001b[1;32m    162\u001b[0m         raise AttributeError(\"%r object has no attribute %r\" %\n\u001b[0;32m--> 163\u001b[0;31m                              (type(self).__name__, attr))\n\u001b[0m\u001b[1;32m    164\u001b[0m \u001b[0;34m\u001b[0m\u001b[0m\n\u001b[1;32m    165\u001b[0m     \u001b[0;32mdef\u001b[0m \u001b[0m_dir_additions\u001b[0m\u001b[0;34m(\u001b[0m\u001b[0mself\u001b[0m\u001b[0;34m)\u001b[0m\u001b[0;34m:\u001b[0m\u001b[0;34m\u001b[0m\u001b[0;34m\u001b[0m\u001b[0m\n",
      "\u001b[0;31mAttributeError\u001b[0m: 'Rolling' object has no attribute 'rolling'"
     ]
    }
   ],
   "source": [
    "# 24) do the same thing, but this time using the rolling() function in a 60sec window\n",
    "df = df.rolling(window=60).mean()\n",
    "df.plot()"
   ]
  },
  {
   "cell_type": "code",
   "execution_count": null,
   "metadata": {},
   "outputs": [],
   "source": [
    "# 25) What is the difference between rolling() and resample()? Why do the graphs look different?"
   ]
  },
  {
   "cell_type": "markdown",
   "metadata": {},
   "source": [
    "## Correlations"
   ]
  },
  {
   "cell_type": "markdown",
   "metadata": {},
   "source": [
    "In this section we're going to keep exploring the relationship between heart rate data and electrodermal activity. We are going to do this visually (with a scatter plot first) and then using a statistical test (Pearson's correlation). "
   ]
  },
  {
   "cell_type": "code",
   "execution_count": 206,
   "metadata": {},
   "outputs": [
    {
     "data": {
      "text/plain": [
       "<matplotlib.axes._subplots.AxesSubplot at 0x11d98aef0>"
      ]
     },
     "execution_count": 206,
     "metadata": {},
     "output_type": "execute_result"
    },
    {
     "data": {
      "image/png": "[encoded data removed]",
      "text/plain": [
       "<Figure size 432x288 with 1 Axes>"
      ]
     },
     "metadata": {
      "needs_background": "light"
     },
     "output_type": "display_data"
    }
   ],
   "source": [
    "# 26) create a scatter plot between HR and EDA:\n",
    "df.plot(kind='scatter', x = 'HR', y = 'EDA')"
   ]
  },
  {
   "cell_type": "code",
   "execution_count": 224,
   "metadata": {},
   "outputs": [
    {
     "data": {
      "text/plain": [
       "-0.13861928732609413"
      ]
     },
     "execution_count": 224,
     "metadata": {},
     "output_type": "execute_result"
    }
   ],
   "source": [
    "# 27) compute pearson's correlation between the HR and EDA data\n",
    "df['HR'].corr(df['EDA'])"
   ]
  },
  {
   "cell_type": "code",
   "execution_count": 24,
   "metadata": {},
   "outputs": [],
   "source": [
    "# 29) what can you conclude? Is there a linear relationship between HR and EDA data in this dataset?\n",
    "#there is a very minimal negative correlation between the two. Like, very minimal. "
   ]
  },
  {
   "cell_type": "code",
   "execution_count": null,
   "metadata": {},
   "outputs": [],
   "source": []
  }
 ],
 "metadata": {
  "kernelspec": {
   "display_name": "Python 3",
   "language": "python",
   "name": "python3"
  },
  "language_info": {
   "codemirror_mode": {
    "name": "ipython",
    "version": 3
   },
   "file_extension": ".py",
   "mimetype": "text/x-python",
   "name": "python",
   "nbconvert_exporter": "python",
   "pygments_lexer": "ipython3",
   "version": "3.7.1"
  },
  "toc": {
   "base_numbering": 1,
   "nav_menu": {},
   "number_sections": true,
   "sideBar": true,
   "skip_h1_title": false,
   "title_cell": "Table of Contents",
   "title_sidebar": "Contents",
   "toc_cell": false,
   "toc_position": {},
   "toc_section_display": true,
   "toc_window_display": false
  },
  "varInspector": {
   "cols": {
    "lenName": 16,
    "lenType": 16,
    "lenVar": 40
   },
   "kernels_config": {
    "python": {
     "delete_cmd_postfix": "",
     "delete_cmd_prefix": "del ",
     "library": "var_list.py",
     "varRefreshCmd": "print(var_dic_list())"
    },
    "r": {
     "delete_cmd_postfix": ") ",
     "delete_cmd_prefix": "rm(",
     "library": "var_list.r",
     "varRefreshCmd": "cat(var_dic_list()) "
    }
   },
   "types_to_exclude": [
    "module",
    "function",
    "builtin_function_or_method",
    "instance",
    "_Feature"
   ],
   "window_display": false
  }
 },
 "nbformat": 4,
 "nbformat_minor": 2
}
